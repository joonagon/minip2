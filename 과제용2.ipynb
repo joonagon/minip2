{
  "nbformat": 4,
  "nbformat_minor": 0,
  "metadata": {
    "colab": {
      "provenance": []
    },
    "kernelspec": {
      "name": "python3",
      "display_name": "Python 3"
    },
    "language_info": {
      "name": "python"
    }
  },
  "cells": [
    {
      "cell_type": "code",
      "execution_count": null,
      "metadata": {
        "id": "zMF7ti4vSuSx"
      },
      "outputs": [],
      "source": [
        "import numpy as np\n",
        "import pandas as pd\n",
        "import matplotlib.pyplot as plt\n",
        "import seaborn as sns"
      ]
    },
    {
      "cell_type": "code",
      "source": [
        "df1 = pd.read_csv('/content/생필품 농수축산물 가격 정보(2021년).csv', encoding = 'cp949')\n",
        "df2 = pd.read_csv('/content/생필품 농수축산물 가격 정보(2020년).csv', encoding = 'cp949')\n",
        "df3 = pd.read_csv('/content/생필품 농수축산물 가격 정보(2019년).csv', encoding = 'cp949')"
      ],
      "metadata": {
        "id": "CjuvelTfS4f_"
      },
      "execution_count": null,
      "outputs": []
    },
    {
      "cell_type": "code",
      "source": [
        "agr1 = pd.merge(df1,df2, how= 'outer')"
      ],
      "metadata": {
        "id": "LQF-Gp_STm84"
      },
      "execution_count": null,
      "outputs": []
    },
    {
      "cell_type": "code",
      "source": [
        "agr = pd.merge(agr1,df3, how= 'outer')\n",
        "agr"
      ],
      "metadata": {
        "colab": {
          "base_uri": "https://localhost:8080/",
          "height": 797
        },
        "id": "RrdtJFcvTta5",
        "outputId": "6803c2b1-ce90-4e2e-8ba0-252a83dd6663"
      },
      "execution_count": null,
      "outputs": [
        {
          "output_type": "execute_result",
          "data": {
            "text/plain": [
              "           일련번호  시장/마트 번호  시장/마트 이름  품목 번호        품목 이름      실판매규격  가격(원)  \\\n",
              "0       1636107       226  롯데마트 구로점     28           사과  1개 (300g)   1598   \n",
              "1       1636108       226  롯데마트 구로점     27            배  1개 (600g)   1590   \n",
              "2       1636109       226  롯데마트 구로점     26           배추   1포기(2kg)   3990   \n",
              "3       1636110       226  롯데마트 구로점     25            무  1개 (900g)   1990   \n",
              "4       1636111       226  롯데마트 구로점     24           양파  1개 (200g)    990   \n",
              "...         ...       ...       ...    ...          ...        ...    ...   \n",
              "320838  1359195       202      구로시장    312          애호박        1개    1500   \n",
              "320839  1357693        73      뚝도시장    306  배(신고, 600g)         1개   3900   \n",
              "320840  1359189       202      구로시장    306  배(신고, 600g)        1개    3500   \n",
              "320841  1357694        73      뚝도시장    307  배추(2.5~3kg)        1포기   2500   \n",
              "320842  1359188       202      구로시장     28           사과        1개    1250   \n",
              "\n",
              "           년도-월      비고  시장유형 구분(시장/마트) 코드 시장유형 구분(시장/마트) 이름  자치구 코드 자치구 이름  \\\n",
              "0       2021-01  국내산,부사                  2              대형마트  530000    구로구   \n",
              "1       2021-01  국내산,신고                  2              대형마트  530000    구로구   \n",
              "2       2021-01     국내산                  2              대형마트  530000    구로구   \n",
              "3       2021-01     국내산                  2              대형마트  530000    구로구   \n",
              "4       2021-01     국내산                  2              대형마트  530000    구로구   \n",
              "...         ...     ...                ...               ...     ...    ...   \n",
              "320838  2019-01     국내산                  1              전통시장  530000    구로구   \n",
              "320839  2019-01     NaN                  1              전통시장  200000    성동구   \n",
              "320840  2019-01     국내산                  1              전통시장  530000    구로구   \n",
              "320841  2019-01     NaN                  1              전통시장  200000    성동구   \n",
              "320842  2019-01  4개5000                  1              전통시장  530000    구로구   \n",
              "\n",
              "              점검일자  \n",
              "0       2021-01-21  \n",
              "1       2021-01-21  \n",
              "2       2021-01-21  \n",
              "3       2021-01-21  \n",
              "4       2021-01-21  \n",
              "...            ...  \n",
              "320838  2019-01-28  \n",
              "320839  2019-01-28  \n",
              "320840  2019-01-28  \n",
              "320841  2019-01-28  \n",
              "320842  2019-01-28  \n",
              "\n",
              "[320843 rows x 14 columns]"
            ],
            "text/html": [
              "\n",
              "  <div id=\"df-aa52a298-ff84-4b4f-a402-d70b3239fb2f\">\n",
              "    <div class=\"colab-df-container\">\n",
              "      <div>\n",
              "<style scoped>\n",
              "    .dataframe tbody tr th:only-of-type {\n",
              "        vertical-align: middle;\n",
              "    }\n",
              "\n",
              "    .dataframe tbody tr th {\n",
              "        vertical-align: top;\n",
              "    }\n",
              "\n",
              "    .dataframe thead th {\n",
              "        text-align: right;\n",
              "    }\n",
              "</style>\n",
              "<table border=\"1\" class=\"dataframe\">\n",
              "  <thead>\n",
              "    <tr style=\"text-align: right;\">\n",
              "      <th></th>\n",
              "      <th>일련번호</th>\n",
              "      <th>시장/마트 번호</th>\n",
              "      <th>시장/마트 이름</th>\n",
              "      <th>품목 번호</th>\n",
              "      <th>품목 이름</th>\n",
              "      <th>실판매규격</th>\n",
              "      <th>가격(원)</th>\n",
              "      <th>년도-월</th>\n",
              "      <th>비고</th>\n",
              "      <th>시장유형 구분(시장/마트) 코드</th>\n",
              "      <th>시장유형 구분(시장/마트) 이름</th>\n",
              "      <th>자치구 코드</th>\n",
              "      <th>자치구 이름</th>\n",
              "      <th>점검일자</th>\n",
              "    </tr>\n",
              "  </thead>\n",
              "  <tbody>\n",
              "    <tr>\n",
              "      <th>0</th>\n",
              "      <td>1636107</td>\n",
              "      <td>226</td>\n",
              "      <td>롯데마트 구로점</td>\n",
              "      <td>28</td>\n",
              "      <td>사과</td>\n",
              "      <td>1개 (300g)</td>\n",
              "      <td>1598</td>\n",
              "      <td>2021-01</td>\n",
              "      <td>국내산,부사</td>\n",
              "      <td>2</td>\n",
              "      <td>대형마트</td>\n",
              "      <td>530000</td>\n",
              "      <td>구로구</td>\n",
              "      <td>2021-01-21</td>\n",
              "    </tr>\n",
              "    <tr>\n",
              "      <th>1</th>\n",
              "      <td>1636108</td>\n",
              "      <td>226</td>\n",
              "      <td>롯데마트 구로점</td>\n",
              "      <td>27</td>\n",
              "      <td>배</td>\n",
              "      <td>1개 (600g)</td>\n",
              "      <td>1590</td>\n",
              "      <td>2021-01</td>\n",
              "      <td>국내산,신고</td>\n",
              "      <td>2</td>\n",
              "      <td>대형마트</td>\n",
              "      <td>530000</td>\n",
              "      <td>구로구</td>\n",
              "      <td>2021-01-21</td>\n",
              "    </tr>\n",
              "    <tr>\n",
              "      <th>2</th>\n",
              "      <td>1636109</td>\n",
              "      <td>226</td>\n",
              "      <td>롯데마트 구로점</td>\n",
              "      <td>26</td>\n",
              "      <td>배추</td>\n",
              "      <td>1포기(2kg)</td>\n",
              "      <td>3990</td>\n",
              "      <td>2021-01</td>\n",
              "      <td>국내산</td>\n",
              "      <td>2</td>\n",
              "      <td>대형마트</td>\n",
              "      <td>530000</td>\n",
              "      <td>구로구</td>\n",
              "      <td>2021-01-21</td>\n",
              "    </tr>\n",
              "    <tr>\n",
              "      <th>3</th>\n",
              "      <td>1636110</td>\n",
              "      <td>226</td>\n",
              "      <td>롯데마트 구로점</td>\n",
              "      <td>25</td>\n",
              "      <td>무</td>\n",
              "      <td>1개 (900g)</td>\n",
              "      <td>1990</td>\n",
              "      <td>2021-01</td>\n",
              "      <td>국내산</td>\n",
              "      <td>2</td>\n",
              "      <td>대형마트</td>\n",
              "      <td>530000</td>\n",
              "      <td>구로구</td>\n",
              "      <td>2021-01-21</td>\n",
              "    </tr>\n",
              "    <tr>\n",
              "      <th>4</th>\n",
              "      <td>1636111</td>\n",
              "      <td>226</td>\n",
              "      <td>롯데마트 구로점</td>\n",
              "      <td>24</td>\n",
              "      <td>양파</td>\n",
              "      <td>1개 (200g)</td>\n",
              "      <td>990</td>\n",
              "      <td>2021-01</td>\n",
              "      <td>국내산</td>\n",
              "      <td>2</td>\n",
              "      <td>대형마트</td>\n",
              "      <td>530000</td>\n",
              "      <td>구로구</td>\n",
              "      <td>2021-01-21</td>\n",
              "    </tr>\n",
              "    <tr>\n",
              "      <th>...</th>\n",
              "      <td>...</td>\n",
              "      <td>...</td>\n",
              "      <td>...</td>\n",
              "      <td>...</td>\n",
              "      <td>...</td>\n",
              "      <td>...</td>\n",
              "      <td>...</td>\n",
              "      <td>...</td>\n",
              "      <td>...</td>\n",
              "      <td>...</td>\n",
              "      <td>...</td>\n",
              "      <td>...</td>\n",
              "      <td>...</td>\n",
              "      <td>...</td>\n",
              "    </tr>\n",
              "    <tr>\n",
              "      <th>320838</th>\n",
              "      <td>1359195</td>\n",
              "      <td>202</td>\n",
              "      <td>구로시장</td>\n",
              "      <td>312</td>\n",
              "      <td>애호박</td>\n",
              "      <td>1개</td>\n",
              "      <td>1500</td>\n",
              "      <td>2019-01</td>\n",
              "      <td>국내산</td>\n",
              "      <td>1</td>\n",
              "      <td>전통시장</td>\n",
              "      <td>530000</td>\n",
              "      <td>구로구</td>\n",
              "      <td>2019-01-28</td>\n",
              "    </tr>\n",
              "    <tr>\n",
              "      <th>320839</th>\n",
              "      <td>1357693</td>\n",
              "      <td>73</td>\n",
              "      <td>뚝도시장</td>\n",
              "      <td>306</td>\n",
              "      <td>배(신고, 600g)</td>\n",
              "      <td>1개</td>\n",
              "      <td>3900</td>\n",
              "      <td>2019-01</td>\n",
              "      <td>NaN</td>\n",
              "      <td>1</td>\n",
              "      <td>전통시장</td>\n",
              "      <td>200000</td>\n",
              "      <td>성동구</td>\n",
              "      <td>2019-01-28</td>\n",
              "    </tr>\n",
              "    <tr>\n",
              "      <th>320840</th>\n",
              "      <td>1359189</td>\n",
              "      <td>202</td>\n",
              "      <td>구로시장</td>\n",
              "      <td>306</td>\n",
              "      <td>배(신고, 600g)</td>\n",
              "      <td>1개</td>\n",
              "      <td>3500</td>\n",
              "      <td>2019-01</td>\n",
              "      <td>국내산</td>\n",
              "      <td>1</td>\n",
              "      <td>전통시장</td>\n",
              "      <td>530000</td>\n",
              "      <td>구로구</td>\n",
              "      <td>2019-01-28</td>\n",
              "    </tr>\n",
              "    <tr>\n",
              "      <th>320841</th>\n",
              "      <td>1357694</td>\n",
              "      <td>73</td>\n",
              "      <td>뚝도시장</td>\n",
              "      <td>307</td>\n",
              "      <td>배추(2.5~3kg)</td>\n",
              "      <td>1포기</td>\n",
              "      <td>2500</td>\n",
              "      <td>2019-01</td>\n",
              "      <td>NaN</td>\n",
              "      <td>1</td>\n",
              "      <td>전통시장</td>\n",
              "      <td>200000</td>\n",
              "      <td>성동구</td>\n",
              "      <td>2019-01-28</td>\n",
              "    </tr>\n",
              "    <tr>\n",
              "      <th>320842</th>\n",
              "      <td>1359188</td>\n",
              "      <td>202</td>\n",
              "      <td>구로시장</td>\n",
              "      <td>28</td>\n",
              "      <td>사과</td>\n",
              "      <td>1개</td>\n",
              "      <td>1250</td>\n",
              "      <td>2019-01</td>\n",
              "      <td>4개5000</td>\n",
              "      <td>1</td>\n",
              "      <td>전통시장</td>\n",
              "      <td>530000</td>\n",
              "      <td>구로구</td>\n",
              "      <td>2019-01-28</td>\n",
              "    </tr>\n",
              "  </tbody>\n",
              "</table>\n",
              "<p>320843 rows × 14 columns</p>\n",
              "</div>\n",
              "      <button class=\"colab-df-convert\" onclick=\"convertToInteractive('df-aa52a298-ff84-4b4f-a402-d70b3239fb2f')\"\n",
              "              title=\"Convert this dataframe to an interactive table.\"\n",
              "              style=\"display:none;\">\n",
              "        \n",
              "  <svg xmlns=\"http://www.w3.org/2000/svg\" height=\"24px\"viewBox=\"0 0 24 24\"\n",
              "       width=\"24px\">\n",
              "    <path d=\"M0 0h24v24H0V0z\" fill=\"none\"/>\n",
              "    <path d=\"M18.56 5.44l.94 2.06.94-2.06 2.06-.94-2.06-.94-.94-2.06-.94 2.06-2.06.94zm-11 1L8.5 8.5l.94-2.06 2.06-.94-2.06-.94L8.5 2.5l-.94 2.06-2.06.94zm10 10l.94 2.06.94-2.06 2.06-.94-2.06-.94-.94-2.06-.94 2.06-2.06.94z\"/><path d=\"M17.41 7.96l-1.37-1.37c-.4-.4-.92-.59-1.43-.59-.52 0-1.04.2-1.43.59L10.3 9.45l-7.72 7.72c-.78.78-.78 2.05 0 2.83L4 21.41c.39.39.9.59 1.41.59.51 0 1.02-.2 1.41-.59l7.78-7.78 2.81-2.81c.8-.78.8-2.07 0-2.86zM5.41 20L4 18.59l7.72-7.72 1.47 1.35L5.41 20z\"/>\n",
              "  </svg>\n",
              "      </button>\n",
              "      \n",
              "  <style>\n",
              "    .colab-df-container {\n",
              "      display:flex;\n",
              "      flex-wrap:wrap;\n",
              "      gap: 12px;\n",
              "    }\n",
              "\n",
              "    .colab-df-convert {\n",
              "      background-color: #E8F0FE;\n",
              "      border: none;\n",
              "      border-radius: 50%;\n",
              "      cursor: pointer;\n",
              "      display: none;\n",
              "      fill: #1967D2;\n",
              "      height: 32px;\n",
              "      padding: 0 0 0 0;\n",
              "      width: 32px;\n",
              "    }\n",
              "\n",
              "    .colab-df-convert:hover {\n",
              "      background-color: #E2EBFA;\n",
              "      box-shadow: 0px 1px 2px rgba(60, 64, 67, 0.3), 0px 1px 3px 1px rgba(60, 64, 67, 0.15);\n",
              "      fill: #174EA6;\n",
              "    }\n",
              "\n",
              "    [theme=dark] .colab-df-convert {\n",
              "      background-color: #3B4455;\n",
              "      fill: #D2E3FC;\n",
              "    }\n",
              "\n",
              "    [theme=dark] .colab-df-convert:hover {\n",
              "      background-color: #434B5C;\n",
              "      box-shadow: 0px 1px 3px 1px rgba(0, 0, 0, 0.15);\n",
              "      filter: drop-shadow(0px 1px 2px rgba(0, 0, 0, 0.3));\n",
              "      fill: #FFFFFF;\n",
              "    }\n",
              "  </style>\n",
              "\n",
              "      <script>\n",
              "        const buttonEl =\n",
              "          document.querySelector('#df-aa52a298-ff84-4b4f-a402-d70b3239fb2f button.colab-df-convert');\n",
              "        buttonEl.style.display =\n",
              "          google.colab.kernel.accessAllowed ? 'block' : 'none';\n",
              "\n",
              "        async function convertToInteractive(key) {\n",
              "          const element = document.querySelector('#df-aa52a298-ff84-4b4f-a402-d70b3239fb2f');\n",
              "          const dataTable =\n",
              "            await google.colab.kernel.invokeFunction('convertToInteractive',\n",
              "                                                     [key], {});\n",
              "          if (!dataTable) return;\n",
              "\n",
              "          const docLinkHtml = 'Like what you see? Visit the ' +\n",
              "            '<a target=\"_blank\" href=https://colab.research.google.com/notebooks/data_table.ipynb>data table notebook</a>'\n",
              "            + ' to learn more about interactive tables.';\n",
              "          element.innerHTML = '';\n",
              "          dataTable['output_type'] = 'display_data';\n",
              "          await google.colab.output.renderOutput(dataTable, element);\n",
              "          const docLink = document.createElement('div');\n",
              "          docLink.innerHTML = docLinkHtml;\n",
              "          element.appendChild(docLink);\n",
              "        }\n",
              "      </script>\n",
              "    </div>\n",
              "  </div>\n",
              "  "
            ]
          },
          "metadata": {},
          "execution_count": 4
        }
      ]
    },
    {
      "cell_type": "code",
      "source": [
        "# 필요없는 object 열 드롭\n",
        "\n",
        "agr.drop('실판매규격',axis=1, inplace = True)\n",
        "agr.drop('점검일자',axis=1, inplace = True)\n",
        "agr.drop('비고',axis=1, inplace = True)\n",
        "agr.drop('일련번호',axis=1, inplace = True)\n",
        "\n",
        "# 나머지 object 열은 삭제해도 나중에 시각화를 했을 때 범례로 나타내기 위해서 '코드 - 이름(문자열)' 형식의 딕셔너리로 백업\n",
        "\n",
        "#------------------------------------------------------ 자치구 딕셔너리 생성\n",
        "\n",
        "region_name2 = agr['자치구 이름']\n",
        "region_code2 = agr['자치구 코드']\n",
        "\n",
        "\n",
        "region2 = {}\n",
        "\n",
        "for i in range(len(region_code2)):\n",
        "  region2[region_code2[i]] = region_name2[i]\n",
        "\n",
        "#------------------------------------------------------- 품목 딕셔너리 생성\n",
        "\n",
        "product_name2 = agr['품목 이름']\n",
        "product_code2 = agr['품목 번호']\n",
        "\n",
        "\n",
        "product2 = {}\n",
        "\n",
        "for j in range(len(product_code2)):\n",
        "  product2[product_code2[j]] = product_name2[j]\n",
        "\n",
        "#------------------------------------------------------ 시장/마트 식별변호 딕셔너리 생성\n",
        "\n",
        "market_name2 = agr['시장/마트 번호']\n",
        "market_code2 = agr['시장/마트 이름']\n",
        "\n",
        "\n",
        "market2 = {}\n",
        "\n",
        "for k in range(len(market_code2)):\n",
        "  market2[market_code2[k]] = market_name2[k]\n",
        "\n",
        "#------------------------------------------------------ 딕셔너리 생성 확인\n",
        "\n",
        "print(region2)\n",
        "print(product2)\n",
        "print(market2)\n",
        "\n",
        "#-------------------------------------------------------- object 열 삭제\n",
        "\n",
        "agr.drop('품목 이름',axis=1, inplace = True)\n",
        "agr.drop('자치구 이름',axis=1, inplace = True)\n",
        "agr.drop('시장/마트 이름',axis=1, inplace = True)\n",
        "agr.drop('시장유형 구분(시장/마트) 코드',axis=1, inplace = True)\n",
        "agr.drop('시장유형 구분(시장/마트) 이름',axis=1, inplace = True)\n",
        "\n",
        "#---------------------------------------------------------------------------- 날짜 데이터 변환\n",
        "\n",
        "agr['년도-월'] = pd.to_datetime(agr['년도-월'])"
      ],
      "metadata": {
        "colab": {
          "base_uri": "https://localhost:8080/"
        },
        "id": "7SLNCah6Tg8x",
        "outputId": "edcdf1b9-de61-4366-c49a-49cb1df62b15"
      },
      "execution_count": null,
      "outputs": [
        {
          "output_type": "stream",
          "name": "stdout",
          "text": [
            "{530000: '구로구', 110000: '종로구', 140000: '중구', 170000: '용산구', 200000: '성동구', 215000: '광진구', 230000: '동대문구', 260000: '중랑구', 305000: '강북구', 320000: '도봉구', 350000: '노원구', 380000: '은평구', 410000: '서대문구', 440000: '마포구', 470000: '양천구', 500000: '강서구', 560000: '영등포구', 590000: '동작구', 620000: '관악구', 650000: '서초구', 680000: '강남구', 710000: '송파구', 740000: '강동구', 290000: '성북구', 545000: '금천구'}\n",
            "{28: '사과', 27: '배', 26: '배추', 25: '무', 24: '양파', 23: '상추', 22: '오이', 312: '애호박', 278: '쇠고기', 285: '돼지고기', 18: '닭고기', 171: '달걀(10개)', 320: '달걀(30개)', 303: '조기', 302: '명태', 253: '오징어', 13: '고등어', 305: '사과(부사, 300g)', 306: '배(신고, 600g)', 175: '배추(중간)', 274: '무(세척무, 중)', 309: '양파(1.5kg망)', 310: '상추(100g)', 119: '호박(인큐베이터)', 58: '쇠고기(한우,불고기)', 99: '돼지고기(생삼겹살)', 283: '닭고기(육계)', 260: '조기(냉동,수입산)', 152: '명태(러시아,냉동)', 254: '오징어(생물,국산)', 266: '고등어(생물,국산)', 307: '배추(2.5~3kg)', 311: '오이(다다기)', 265: '명태(생물,수입산)', 304: '고등어', 282: '무(세척무)', 131: '쇠고기(한우1등급)', 136: '조기(국산,생물)', 133: '무(세척무)', 202: '돼지고기(생삼겹살)', 284: '배(중품)', 271: '배추(중간)', 118: '호박(인큐베이터),중간', 258: '조기(생물,국산)', 308: '무(1kg)', 315: '명태(45cm,수입산)', 52: '돼지고기(삼겹살)', 256: '오징어(냉동,국산)', 144: '조기(국산,냉동)', 264: '명태(냉동,수입산)', 275: '닭고기(중간)', 268: '고등어(냉동,국산)', 82: '쇠고기(육우,불고기)', 259: '조기(냉동,국산)', 277: '호박', 321: '달걀(15개)', 138: '닭고기(토종닭)', 125: '배추(국산)', 272: '양파(작은망)', 276: '배(신고)', 288: '동태', 17: '달걀', 257: '오징어(냉동,수입산)', 50: '사과(부사)', 314: '냉동참조기(20cm,국산)', 237: '사과(부사),중급(대)', 248: '배(신고),중급(대)', 244: '사과(부사),중급(대)', 318: '고등어(30cm,수입산)', 269: '고등어(냉동,수입산)', 261: '조기(생물,수입산)', 135: '조기(중국산,생물)', 313: '냉동참조기(20cm,수입)', 263: '명태(냉동,국산)', 255: '오징어(생물,수입산)', 54: '오징어(냉동)', 267: '고등어(생물,수입산)', 316: '고등어(30cm,국산)', 134: '달걀(왕란)', 181: '달걀(왕란)', 184: '명태(일본산,냉동)', 201: '쇠고기(등심)', 129: '쇠고기(육우1등급)', 106: '쇠고기(한우2등급)', 262: '명태(생물,국산)', 324: '쌀', 176: '달걀(중란)', 270: '사과(부사),중급(중)', 279: '사과(중품)', 170: '배(신고),중급(대)', 51: '배(신고),중급(중)', 281: '배(중품),신고', 299: '삼겹살'}\n",
            "{'롯데마트 구로점': 226, '통인시장': 1, '광장시장': 55, '롯데백화점': 56, '신세계백화점': 2, '남대문시장': 11, '서울중앙시장': 199, '이마트 청계점': 60, '롯데마트 서울역점': 8, '이마트 용산점': 6, '용문시장': 10, '후암시장': 62, '농협 하나로마트 용산점': 63, '뚝도시장': 73, '이마트 성수점': 75, '이마트 왕십리점': 74, '금남시장': 72, '롯데마트 강변점': 82, '자양골목시장': 78, '노룬산골목시장': 212, '이마트 자양점': 80, '롯데백화점 청량리점': 88, '홈플러스 동대문점': 86, '경동시장': 85, '청량리종합시장': 84, '동원시장': 91, '홈플러스 면목점': 94, '우림시장': 90, '이마트 상봉점': 92, '하나로클럽 미아점': 206, '롯데백화점 미아점': 68, '수유재래시장': 66, '숭인시장': 221, '신창시장': 26, '홈플러스 방학점': 28, '이마트 창동점': 27, '방학동도깨비시장': 25, '롯데백화점 노원점': 98, '홈플러스 중계점': 100, '공릉동 도깨비시장': 96, '상계중앙시장': 210, '대조시장': 219, '대림시장': 49, '이마트 은평점': 53, 'NC백화점 불광점': 51, '인왕시장': 31, '영천시장': 32, '현대백화점 신촌점': 33, '롯데슈퍼': 220, '망원시장': 120, '마포농수산물시장': 121, '홈플러스 월드컵점': 123, '농협하나로마트 신촌점': 224, '목3동시장': 102, '이마트 목동점': 214, '홈플러스 목동점': 223, '신영시장': 103, '송화시장': 38, '홈플러스 등촌점': 40, '화곡본동시장': 213, '이마트 가양점': 42, '고척근린시장': 109, '남구로시장': 108, '이마트 신도림점': 110, 'NC백화점 신구로점': 227, '홈플러스 영등포점': 21, '영등포전통시장': 20, '대림중앙시장': 19, '이마트 여의도점': 22, '태평백화점': 129, '남성시장': 127, '롯데백화점 영등포점': 130, '관악신사시장(신림4동)': 207, '신원시장(신림1동)': 134, '원당종합시장': 133, '세이브 마트': 136, '롯데백화점 관악점': 135, '하나로클럽 양재점': 140, '뉴코아아울렛 강남점': 200, '방배종합시장': 228, '신세계백화점 강남점': 218, '청담삼익시장': 215, '롯데백화점 강남점': 45, '도곡시장': 216, '이마트 역삼점': 44, '마천중앙시장': 145, '방이시장': 146, '홈플러스 잠실점': 148, '롯데백화점 잠실점': 147, '암사종합시장': 151, '이마트 명일점': 153, '홈플러스 강동점': 154, '둔촌역전통시장': 205, '현대백화점 미아점': 16, '장위골목시장': 14, '이마트 미아점': 15, '돈암제일시장': 13, '현대시장': 114, '홈플러스 시흥점': 116, '남문시장': 115, '홈플러스 독산점': 222, '이마트 에브리데이 창동점': 225, '이마트 이수점': 229, '2001아울렛 불광점': 51, '방림시장': 217, '애경백화점': 112, '구로시장': 202}\n"
          ]
        }
      ]
    },
    {
      "cell_type": "code",
      "source": [
        "len(product2)"
      ],
      "metadata": {
        "colab": {
          "base_uri": "https://localhost:8080/"
        },
        "id": "CYI3FHc2Jf_R",
        "outputId": "1357c1a3-631f-453a-9c8c-fe33c808edea"
      },
      "execution_count": null,
      "outputs": [
        {
          "output_type": "execute_result",
          "data": {
            "text/plain": [
              "93"
            ]
          },
          "metadata": {},
          "execution_count": 6
        }
      ]
    },
    {
      "cell_type": "code",
      "source": [
        "agr['가격(원)'].value_counts()"
      ],
      "metadata": {
        "colab": {
          "base_uri": "https://localhost:8080/"
        },
        "id": "gM_wUdnZUkkB",
        "outputId": "acbd1cb6-4a78-4866-9efa-2b0f7e1bea48"
      },
      "execution_count": null,
      "outputs": [
        {
          "output_type": "execute_result",
          "data": {
            "text/plain": [
              "3000     15383\n",
              "2000     13706\n",
              "2500     12974\n",
              "4000     12420\n",
              "5000     10549\n",
              "         ...  \n",
              "5325         1\n",
              "4575         1\n",
              "22320        1\n",
              "3483         1\n",
              "6760         1\n",
              "Name: 가격(원), Length: 3407, dtype: int64"
            ]
          },
          "metadata": {},
          "execution_count": 7
        }
      ]
    },
    {
      "cell_type": "code",
      "source": [
        "agr = agr.sort_values(by = '가격(원)')\n",
        "agr = agr.iloc[3694:320843,:]\n",
        "agr"
      ],
      "metadata": {
        "colab": {
          "base_uri": "https://localhost:8080/",
          "height": 423
        },
        "id": "aoBXrJ-7Tkx4",
        "outputId": "f620e1a0-f307-4fb1-e77e-9bbbe46b9f1d"
      },
      "execution_count": null,
      "outputs": [
        {
          "output_type": "execute_result",
          "data": {
            "text/plain": [
              "        시장/마트 번호  품목 번호       가격(원)       년도-월  자치구 코드\n",
              "232424        21    202           1 2019-11-01  560000\n",
              "277414       213    119          10 2019-07-01  500000\n",
              "30628        214    312          90 2021-05-01  470000\n",
              "13538        102     25         100 2021-02-01  470000\n",
              "272598       146    310         100 2019-08-01  710000\n",
              "...          ...    ...         ...        ...     ...\n",
              "125001        10    256      310000 2020-10-01  170000\n",
              "233316        94    306      403890 2019-11-01  260000\n",
              "115830       223    288    34902990 2020-10-01  470000\n",
              "104017       214     13    35002980 2020-11-01  470000\n",
              "55890         56     99  2394023940 2021-08-01  140000\n",
              "\n",
              "[317149 rows x 5 columns]"
            ],
            "text/html": [
              "\n",
              "  <div id=\"df-1b03c7be-3ef6-4b61-bc0a-402a3522cea4\">\n",
              "    <div class=\"colab-df-container\">\n",
              "      <div>\n",
              "<style scoped>\n",
              "    .dataframe tbody tr th:only-of-type {\n",
              "        vertical-align: middle;\n",
              "    }\n",
              "\n",
              "    .dataframe tbody tr th {\n",
              "        vertical-align: top;\n",
              "    }\n",
              "\n",
              "    .dataframe thead th {\n",
              "        text-align: right;\n",
              "    }\n",
              "</style>\n",
              "<table border=\"1\" class=\"dataframe\">\n",
              "  <thead>\n",
              "    <tr style=\"text-align: right;\">\n",
              "      <th></th>\n",
              "      <th>시장/마트 번호</th>\n",
              "      <th>품목 번호</th>\n",
              "      <th>가격(원)</th>\n",
              "      <th>년도-월</th>\n",
              "      <th>자치구 코드</th>\n",
              "    </tr>\n",
              "  </thead>\n",
              "  <tbody>\n",
              "    <tr>\n",
              "      <th>232424</th>\n",
              "      <td>21</td>\n",
              "      <td>202</td>\n",
              "      <td>1</td>\n",
              "      <td>2019-11-01</td>\n",
              "      <td>560000</td>\n",
              "    </tr>\n",
              "    <tr>\n",
              "      <th>277414</th>\n",
              "      <td>213</td>\n",
              "      <td>119</td>\n",
              "      <td>10</td>\n",
              "      <td>2019-07-01</td>\n",
              "      <td>500000</td>\n",
              "    </tr>\n",
              "    <tr>\n",
              "      <th>30628</th>\n",
              "      <td>214</td>\n",
              "      <td>312</td>\n",
              "      <td>90</td>\n",
              "      <td>2021-05-01</td>\n",
              "      <td>470000</td>\n",
              "    </tr>\n",
              "    <tr>\n",
              "      <th>13538</th>\n",
              "      <td>102</td>\n",
              "      <td>25</td>\n",
              "      <td>100</td>\n",
              "      <td>2021-02-01</td>\n",
              "      <td>470000</td>\n",
              "    </tr>\n",
              "    <tr>\n",
              "      <th>272598</th>\n",
              "      <td>146</td>\n",
              "      <td>310</td>\n",
              "      <td>100</td>\n",
              "      <td>2019-08-01</td>\n",
              "      <td>710000</td>\n",
              "    </tr>\n",
              "    <tr>\n",
              "      <th>...</th>\n",
              "      <td>...</td>\n",
              "      <td>...</td>\n",
              "      <td>...</td>\n",
              "      <td>...</td>\n",
              "      <td>...</td>\n",
              "    </tr>\n",
              "    <tr>\n",
              "      <th>125001</th>\n",
              "      <td>10</td>\n",
              "      <td>256</td>\n",
              "      <td>310000</td>\n",
              "      <td>2020-10-01</td>\n",
              "      <td>170000</td>\n",
              "    </tr>\n",
              "    <tr>\n",
              "      <th>233316</th>\n",
              "      <td>94</td>\n",
              "      <td>306</td>\n",
              "      <td>403890</td>\n",
              "      <td>2019-11-01</td>\n",
              "      <td>260000</td>\n",
              "    </tr>\n",
              "    <tr>\n",
              "      <th>115830</th>\n",
              "      <td>223</td>\n",
              "      <td>288</td>\n",
              "      <td>34902990</td>\n",
              "      <td>2020-10-01</td>\n",
              "      <td>470000</td>\n",
              "    </tr>\n",
              "    <tr>\n",
              "      <th>104017</th>\n",
              "      <td>214</td>\n",
              "      <td>13</td>\n",
              "      <td>35002980</td>\n",
              "      <td>2020-11-01</td>\n",
              "      <td>470000</td>\n",
              "    </tr>\n",
              "    <tr>\n",
              "      <th>55890</th>\n",
              "      <td>56</td>\n",
              "      <td>99</td>\n",
              "      <td>2394023940</td>\n",
              "      <td>2021-08-01</td>\n",
              "      <td>140000</td>\n",
              "    </tr>\n",
              "  </tbody>\n",
              "</table>\n",
              "<p>317149 rows × 5 columns</p>\n",
              "</div>\n",
              "      <button class=\"colab-df-convert\" onclick=\"convertToInteractive('df-1b03c7be-3ef6-4b61-bc0a-402a3522cea4')\"\n",
              "              title=\"Convert this dataframe to an interactive table.\"\n",
              "              style=\"display:none;\">\n",
              "        \n",
              "  <svg xmlns=\"http://www.w3.org/2000/svg\" height=\"24px\"viewBox=\"0 0 24 24\"\n",
              "       width=\"24px\">\n",
              "    <path d=\"M0 0h24v24H0V0z\" fill=\"none\"/>\n",
              "    <path d=\"M18.56 5.44l.94 2.06.94-2.06 2.06-.94-2.06-.94-.94-2.06-.94 2.06-2.06.94zm-11 1L8.5 8.5l.94-2.06 2.06-.94-2.06-.94L8.5 2.5l-.94 2.06-2.06.94zm10 10l.94 2.06.94-2.06 2.06-.94-2.06-.94-.94-2.06-.94 2.06-2.06.94z\"/><path d=\"M17.41 7.96l-1.37-1.37c-.4-.4-.92-.59-1.43-.59-.52 0-1.04.2-1.43.59L10.3 9.45l-7.72 7.72c-.78.78-.78 2.05 0 2.83L4 21.41c.39.39.9.59 1.41.59.51 0 1.02-.2 1.41-.59l7.78-7.78 2.81-2.81c.8-.78.8-2.07 0-2.86zM5.41 20L4 18.59l7.72-7.72 1.47 1.35L5.41 20z\"/>\n",
              "  </svg>\n",
              "      </button>\n",
              "      \n",
              "  <style>\n",
              "    .colab-df-container {\n",
              "      display:flex;\n",
              "      flex-wrap:wrap;\n",
              "      gap: 12px;\n",
              "    }\n",
              "\n",
              "    .colab-df-convert {\n",
              "      background-color: #E8F0FE;\n",
              "      border: none;\n",
              "      border-radius: 50%;\n",
              "      cursor: pointer;\n",
              "      display: none;\n",
              "      fill: #1967D2;\n",
              "      height: 32px;\n",
              "      padding: 0 0 0 0;\n",
              "      width: 32px;\n",
              "    }\n",
              "\n",
              "    .colab-df-convert:hover {\n",
              "      background-color: #E2EBFA;\n",
              "      box-shadow: 0px 1px 2px rgba(60, 64, 67, 0.3), 0px 1px 3px 1px rgba(60, 64, 67, 0.15);\n",
              "      fill: #174EA6;\n",
              "    }\n",
              "\n",
              "    [theme=dark] .colab-df-convert {\n",
              "      background-color: #3B4455;\n",
              "      fill: #D2E3FC;\n",
              "    }\n",
              "\n",
              "    [theme=dark] .colab-df-convert:hover {\n",
              "      background-color: #434B5C;\n",
              "      box-shadow: 0px 1px 3px 1px rgba(0, 0, 0, 0.15);\n",
              "      filter: drop-shadow(0px 1px 2px rgba(0, 0, 0, 0.3));\n",
              "      fill: #FFFFFF;\n",
              "    }\n",
              "  </style>\n",
              "\n",
              "      <script>\n",
              "        const buttonEl =\n",
              "          document.querySelector('#df-1b03c7be-3ef6-4b61-bc0a-402a3522cea4 button.colab-df-convert');\n",
              "        buttonEl.style.display =\n",
              "          google.colab.kernel.accessAllowed ? 'block' : 'none';\n",
              "\n",
              "        async function convertToInteractive(key) {\n",
              "          const element = document.querySelector('#df-1b03c7be-3ef6-4b61-bc0a-402a3522cea4');\n",
              "          const dataTable =\n",
              "            await google.colab.kernel.invokeFunction('convertToInteractive',\n",
              "                                                     [key], {});\n",
              "          if (!dataTable) return;\n",
              "\n",
              "          const docLinkHtml = 'Like what you see? Visit the ' +\n",
              "            '<a target=\"_blank\" href=https://colab.research.google.com/notebooks/data_table.ipynb>data table notebook</a>'\n",
              "            + ' to learn more about interactive tables.';\n",
              "          element.innerHTML = '';\n",
              "          dataTable['output_type'] = 'display_data';\n",
              "          await google.colab.output.renderOutput(dataTable, element);\n",
              "          const docLink = document.createElement('div');\n",
              "          docLink.innerHTML = docLinkHtml;\n",
              "          element.appendChild(docLink);\n",
              "        }\n",
              "      </script>\n",
              "    </div>\n",
              "  </div>\n",
              "  "
            ]
          },
          "metadata": {},
          "execution_count": 8
        }
      ]
    },
    {
      "cell_type": "code",
      "source": [
        "agr = agr.iloc[:317146] # 이상치 제거\n",
        "agr"
      ],
      "metadata": {
        "colab": {
          "base_uri": "https://localhost:8080/",
          "height": 423
        },
        "id": "j-sL6iRAZty5",
        "outputId": "b7bfe621-f16a-41f0-9dc3-b583825f9055"
      },
      "execution_count": null,
      "outputs": [
        {
          "output_type": "execute_result",
          "data": {
            "text/plain": [
              "        시장/마트 번호  품목 번호   가격(원)       년도-월  자치구 코드\n",
              "232424        21    202       1 2019-11-01  560000\n",
              "277414       213    119      10 2019-07-01  500000\n",
              "30628        214    312      90 2021-05-01  470000\n",
              "13538        102     25     100 2021-02-01  470000\n",
              "272598       146    310     100 2019-08-01  710000\n",
              "...          ...    ...     ...        ...     ...\n",
              "205260        21    131  210000 2020-01-01  560000\n",
              "156039        40     58  260520 2020-07-01  500000\n",
              "300061        63     58  288200 2019-05-01  170000\n",
              "125001        10    256  310000 2020-10-01  170000\n",
              "233316        94    306  403890 2019-11-01  260000\n",
              "\n",
              "[317146 rows x 5 columns]"
            ],
            "text/html": [
              "\n",
              "  <div id=\"df-f834b914-d788-4071-ba65-523288ae411a\">\n",
              "    <div class=\"colab-df-container\">\n",
              "      <div>\n",
              "<style scoped>\n",
              "    .dataframe tbody tr th:only-of-type {\n",
              "        vertical-align: middle;\n",
              "    }\n",
              "\n",
              "    .dataframe tbody tr th {\n",
              "        vertical-align: top;\n",
              "    }\n",
              "\n",
              "    .dataframe thead th {\n",
              "        text-align: right;\n",
              "    }\n",
              "</style>\n",
              "<table border=\"1\" class=\"dataframe\">\n",
              "  <thead>\n",
              "    <tr style=\"text-align: right;\">\n",
              "      <th></th>\n",
              "      <th>시장/마트 번호</th>\n",
              "      <th>품목 번호</th>\n",
              "      <th>가격(원)</th>\n",
              "      <th>년도-월</th>\n",
              "      <th>자치구 코드</th>\n",
              "    </tr>\n",
              "  </thead>\n",
              "  <tbody>\n",
              "    <tr>\n",
              "      <th>232424</th>\n",
              "      <td>21</td>\n",
              "      <td>202</td>\n",
              "      <td>1</td>\n",
              "      <td>2019-11-01</td>\n",
              "      <td>560000</td>\n",
              "    </tr>\n",
              "    <tr>\n",
              "      <th>277414</th>\n",
              "      <td>213</td>\n",
              "      <td>119</td>\n",
              "      <td>10</td>\n",
              "      <td>2019-07-01</td>\n",
              "      <td>500000</td>\n",
              "    </tr>\n",
              "    <tr>\n",
              "      <th>30628</th>\n",
              "      <td>214</td>\n",
              "      <td>312</td>\n",
              "      <td>90</td>\n",
              "      <td>2021-05-01</td>\n",
              "      <td>470000</td>\n",
              "    </tr>\n",
              "    <tr>\n",
              "      <th>13538</th>\n",
              "      <td>102</td>\n",
              "      <td>25</td>\n",
              "      <td>100</td>\n",
              "      <td>2021-02-01</td>\n",
              "      <td>470000</td>\n",
              "    </tr>\n",
              "    <tr>\n",
              "      <th>272598</th>\n",
              "      <td>146</td>\n",
              "      <td>310</td>\n",
              "      <td>100</td>\n",
              "      <td>2019-08-01</td>\n",
              "      <td>710000</td>\n",
              "    </tr>\n",
              "    <tr>\n",
              "      <th>...</th>\n",
              "      <td>...</td>\n",
              "      <td>...</td>\n",
              "      <td>...</td>\n",
              "      <td>...</td>\n",
              "      <td>...</td>\n",
              "    </tr>\n",
              "    <tr>\n",
              "      <th>205260</th>\n",
              "      <td>21</td>\n",
              "      <td>131</td>\n",
              "      <td>210000</td>\n",
              "      <td>2020-01-01</td>\n",
              "      <td>560000</td>\n",
              "    </tr>\n",
              "    <tr>\n",
              "      <th>156039</th>\n",
              "      <td>40</td>\n",
              "      <td>58</td>\n",
              "      <td>260520</td>\n",
              "      <td>2020-07-01</td>\n",
              "      <td>500000</td>\n",
              "    </tr>\n",
              "    <tr>\n",
              "      <th>300061</th>\n",
              "      <td>63</td>\n",
              "      <td>58</td>\n",
              "      <td>288200</td>\n",
              "      <td>2019-05-01</td>\n",
              "      <td>170000</td>\n",
              "    </tr>\n",
              "    <tr>\n",
              "      <th>125001</th>\n",
              "      <td>10</td>\n",
              "      <td>256</td>\n",
              "      <td>310000</td>\n",
              "      <td>2020-10-01</td>\n",
              "      <td>170000</td>\n",
              "    </tr>\n",
              "    <tr>\n",
              "      <th>233316</th>\n",
              "      <td>94</td>\n",
              "      <td>306</td>\n",
              "      <td>403890</td>\n",
              "      <td>2019-11-01</td>\n",
              "      <td>260000</td>\n",
              "    </tr>\n",
              "  </tbody>\n",
              "</table>\n",
              "<p>317146 rows × 5 columns</p>\n",
              "</div>\n",
              "      <button class=\"colab-df-convert\" onclick=\"convertToInteractive('df-f834b914-d788-4071-ba65-523288ae411a')\"\n",
              "              title=\"Convert this dataframe to an interactive table.\"\n",
              "              style=\"display:none;\">\n",
              "        \n",
              "  <svg xmlns=\"http://www.w3.org/2000/svg\" height=\"24px\"viewBox=\"0 0 24 24\"\n",
              "       width=\"24px\">\n",
              "    <path d=\"M0 0h24v24H0V0z\" fill=\"none\"/>\n",
              "    <path d=\"M18.56 5.44l.94 2.06.94-2.06 2.06-.94-2.06-.94-.94-2.06-.94 2.06-2.06.94zm-11 1L8.5 8.5l.94-2.06 2.06-.94-2.06-.94L8.5 2.5l-.94 2.06-2.06.94zm10 10l.94 2.06.94-2.06 2.06-.94-2.06-.94-.94-2.06-.94 2.06-2.06.94z\"/><path d=\"M17.41 7.96l-1.37-1.37c-.4-.4-.92-.59-1.43-.59-.52 0-1.04.2-1.43.59L10.3 9.45l-7.72 7.72c-.78.78-.78 2.05 0 2.83L4 21.41c.39.39.9.59 1.41.59.51 0 1.02-.2 1.41-.59l7.78-7.78 2.81-2.81c.8-.78.8-2.07 0-2.86zM5.41 20L4 18.59l7.72-7.72 1.47 1.35L5.41 20z\"/>\n",
              "  </svg>\n",
              "      </button>\n",
              "      \n",
              "  <style>\n",
              "    .colab-df-container {\n",
              "      display:flex;\n",
              "      flex-wrap:wrap;\n",
              "      gap: 12px;\n",
              "    }\n",
              "\n",
              "    .colab-df-convert {\n",
              "      background-color: #E8F0FE;\n",
              "      border: none;\n",
              "      border-radius: 50%;\n",
              "      cursor: pointer;\n",
              "      display: none;\n",
              "      fill: #1967D2;\n",
              "      height: 32px;\n",
              "      padding: 0 0 0 0;\n",
              "      width: 32px;\n",
              "    }\n",
              "\n",
              "    .colab-df-convert:hover {\n",
              "      background-color: #E2EBFA;\n",
              "      box-shadow: 0px 1px 2px rgba(60, 64, 67, 0.3), 0px 1px 3px 1px rgba(60, 64, 67, 0.15);\n",
              "      fill: #174EA6;\n",
              "    }\n",
              "\n",
              "    [theme=dark] .colab-df-convert {\n",
              "      background-color: #3B4455;\n",
              "      fill: #D2E3FC;\n",
              "    }\n",
              "\n",
              "    [theme=dark] .colab-df-convert:hover {\n",
              "      background-color: #434B5C;\n",
              "      box-shadow: 0px 1px 3px 1px rgba(0, 0, 0, 0.15);\n",
              "      filter: drop-shadow(0px 1px 2px rgba(0, 0, 0, 0.3));\n",
              "      fill: #FFFFFF;\n",
              "    }\n",
              "  </style>\n",
              "\n",
              "      <script>\n",
              "        const buttonEl =\n",
              "          document.querySelector('#df-f834b914-d788-4071-ba65-523288ae411a button.colab-df-convert');\n",
              "        buttonEl.style.display =\n",
              "          google.colab.kernel.accessAllowed ? 'block' : 'none';\n",
              "\n",
              "        async function convertToInteractive(key) {\n",
              "          const element = document.querySelector('#df-f834b914-d788-4071-ba65-523288ae411a');\n",
              "          const dataTable =\n",
              "            await google.colab.kernel.invokeFunction('convertToInteractive',\n",
              "                                                     [key], {});\n",
              "          if (!dataTable) return;\n",
              "\n",
              "          const docLinkHtml = 'Like what you see? Visit the ' +\n",
              "            '<a target=\"_blank\" href=https://colab.research.google.com/notebooks/data_table.ipynb>data table notebook</a>'\n",
              "            + ' to learn more about interactive tables.';\n",
              "          element.innerHTML = '';\n",
              "          dataTable['output_type'] = 'display_data';\n",
              "          await google.colab.output.renderOutput(dataTable, element);\n",
              "          const docLink = document.createElement('div');\n",
              "          docLink.innerHTML = docLinkHtml;\n",
              "          element.appendChild(docLink);\n",
              "        }\n",
              "      </script>\n",
              "    </div>\n",
              "  </div>\n",
              "  "
            ]
          },
          "metadata": {},
          "execution_count": 9
        }
      ]
    },
    {
      "cell_type": "code",
      "source": [
        "agr = agr.sort_values(by = '년도-월')\n",
        "agr"
      ],
      "metadata": {
        "colab": {
          "base_uri": "https://localhost:8080/",
          "height": 423
        },
        "id": "zG7cu85lj5gH",
        "outputId": "6d742b8c-071e-4426-c46e-f299f9696861"
      },
      "execution_count": null,
      "outputs": [
        {
          "output_type": "execute_result",
          "data": {
            "text/plain": [
              "        시장/마트 번호  품목 번호  가격(원)       년도-월  자치구 코드\n",
              "320146        42    307   1450 2019-01-01  500000\n",
              "320789        78    264   3000 2019-01-01  215000\n",
              "320790        78    256   3000 2019-01-01  215000\n",
              "320792       202    152   3000 2019-01-01  530000\n",
              "320826        73    309   3000 2019-01-01  200000\n",
              "...          ...    ...    ...        ...     ...\n",
              "80843        120    256   4000 2021-12-01  440000\n",
              "80941        223    171   4000 2021-12-01  470000\n",
              "83751         62    308   1500 2021-12-01  170000\n",
              "82542         66    305   4000 2021-12-01  305000\n",
              "87568         28    264   3490 2021-12-01  320000\n",
              "\n",
              "[317146 rows x 5 columns]"
            ],
            "text/html": [
              "\n",
              "  <div id=\"df-a9080112-b5d6-4d7e-ba51-ccdcf11e550a\">\n",
              "    <div class=\"colab-df-container\">\n",
              "      <div>\n",
              "<style scoped>\n",
              "    .dataframe tbody tr th:only-of-type {\n",
              "        vertical-align: middle;\n",
              "    }\n",
              "\n",
              "    .dataframe tbody tr th {\n",
              "        vertical-align: top;\n",
              "    }\n",
              "\n",
              "    .dataframe thead th {\n",
              "        text-align: right;\n",
              "    }\n",
              "</style>\n",
              "<table border=\"1\" class=\"dataframe\">\n",
              "  <thead>\n",
              "    <tr style=\"text-align: right;\">\n",
              "      <th></th>\n",
              "      <th>시장/마트 번호</th>\n",
              "      <th>품목 번호</th>\n",
              "      <th>가격(원)</th>\n",
              "      <th>년도-월</th>\n",
              "      <th>자치구 코드</th>\n",
              "    </tr>\n",
              "  </thead>\n",
              "  <tbody>\n",
              "    <tr>\n",
              "      <th>320146</th>\n",
              "      <td>42</td>\n",
              "      <td>307</td>\n",
              "      <td>1450</td>\n",
              "      <td>2019-01-01</td>\n",
              "      <td>500000</td>\n",
              "    </tr>\n",
              "    <tr>\n",
              "      <th>320789</th>\n",
              "      <td>78</td>\n",
              "      <td>264</td>\n",
              "      <td>3000</td>\n",
              "      <td>2019-01-01</td>\n",
              "      <td>215000</td>\n",
              "    </tr>\n",
              "    <tr>\n",
              "      <th>320790</th>\n",
              "      <td>78</td>\n",
              "      <td>256</td>\n",
              "      <td>3000</td>\n",
              "      <td>2019-01-01</td>\n",
              "      <td>215000</td>\n",
              "    </tr>\n",
              "    <tr>\n",
              "      <th>320792</th>\n",
              "      <td>202</td>\n",
              "      <td>152</td>\n",
              "      <td>3000</td>\n",
              "      <td>2019-01-01</td>\n",
              "      <td>530000</td>\n",
              "    </tr>\n",
              "    <tr>\n",
              "      <th>320826</th>\n",
              "      <td>73</td>\n",
              "      <td>309</td>\n",
              "      <td>3000</td>\n",
              "      <td>2019-01-01</td>\n",
              "      <td>200000</td>\n",
              "    </tr>\n",
              "    <tr>\n",
              "      <th>...</th>\n",
              "      <td>...</td>\n",
              "      <td>...</td>\n",
              "      <td>...</td>\n",
              "      <td>...</td>\n",
              "      <td>...</td>\n",
              "    </tr>\n",
              "    <tr>\n",
              "      <th>80843</th>\n",
              "      <td>120</td>\n",
              "      <td>256</td>\n",
              "      <td>4000</td>\n",
              "      <td>2021-12-01</td>\n",
              "      <td>440000</td>\n",
              "    </tr>\n",
              "    <tr>\n",
              "      <th>80941</th>\n",
              "      <td>223</td>\n",
              "      <td>171</td>\n",
              "      <td>4000</td>\n",
              "      <td>2021-12-01</td>\n",
              "      <td>470000</td>\n",
              "    </tr>\n",
              "    <tr>\n",
              "      <th>83751</th>\n",
              "      <td>62</td>\n",
              "      <td>308</td>\n",
              "      <td>1500</td>\n",
              "      <td>2021-12-01</td>\n",
              "      <td>170000</td>\n",
              "    </tr>\n",
              "    <tr>\n",
              "      <th>82542</th>\n",
              "      <td>66</td>\n",
              "      <td>305</td>\n",
              "      <td>4000</td>\n",
              "      <td>2021-12-01</td>\n",
              "      <td>305000</td>\n",
              "    </tr>\n",
              "    <tr>\n",
              "      <th>87568</th>\n",
              "      <td>28</td>\n",
              "      <td>264</td>\n",
              "      <td>3490</td>\n",
              "      <td>2021-12-01</td>\n",
              "      <td>320000</td>\n",
              "    </tr>\n",
              "  </tbody>\n",
              "</table>\n",
              "<p>317146 rows × 5 columns</p>\n",
              "</div>\n",
              "      <button class=\"colab-df-convert\" onclick=\"convertToInteractive('df-a9080112-b5d6-4d7e-ba51-ccdcf11e550a')\"\n",
              "              title=\"Convert this dataframe to an interactive table.\"\n",
              "              style=\"display:none;\">\n",
              "        \n",
              "  <svg xmlns=\"http://www.w3.org/2000/svg\" height=\"24px\"viewBox=\"0 0 24 24\"\n",
              "       width=\"24px\">\n",
              "    <path d=\"M0 0h24v24H0V0z\" fill=\"none\"/>\n",
              "    <path d=\"M18.56 5.44l.94 2.06.94-2.06 2.06-.94-2.06-.94-.94-2.06-.94 2.06-2.06.94zm-11 1L8.5 8.5l.94-2.06 2.06-.94-2.06-.94L8.5 2.5l-.94 2.06-2.06.94zm10 10l.94 2.06.94-2.06 2.06-.94-2.06-.94-.94-2.06-.94 2.06-2.06.94z\"/><path d=\"M17.41 7.96l-1.37-1.37c-.4-.4-.92-.59-1.43-.59-.52 0-1.04.2-1.43.59L10.3 9.45l-7.72 7.72c-.78.78-.78 2.05 0 2.83L4 21.41c.39.39.9.59 1.41.59.51 0 1.02-.2 1.41-.59l7.78-7.78 2.81-2.81c.8-.78.8-2.07 0-2.86zM5.41 20L4 18.59l7.72-7.72 1.47 1.35L5.41 20z\"/>\n",
              "  </svg>\n",
              "      </button>\n",
              "      \n",
              "  <style>\n",
              "    .colab-df-container {\n",
              "      display:flex;\n",
              "      flex-wrap:wrap;\n",
              "      gap: 12px;\n",
              "    }\n",
              "\n",
              "    .colab-df-convert {\n",
              "      background-color: #E8F0FE;\n",
              "      border: none;\n",
              "      border-radius: 50%;\n",
              "      cursor: pointer;\n",
              "      display: none;\n",
              "      fill: #1967D2;\n",
              "      height: 32px;\n",
              "      padding: 0 0 0 0;\n",
              "      width: 32px;\n",
              "    }\n",
              "\n",
              "    .colab-df-convert:hover {\n",
              "      background-color: #E2EBFA;\n",
              "      box-shadow: 0px 1px 2px rgba(60, 64, 67, 0.3), 0px 1px 3px 1px rgba(60, 64, 67, 0.15);\n",
              "      fill: #174EA6;\n",
              "    }\n",
              "\n",
              "    [theme=dark] .colab-df-convert {\n",
              "      background-color: #3B4455;\n",
              "      fill: #D2E3FC;\n",
              "    }\n",
              "\n",
              "    [theme=dark] .colab-df-convert:hover {\n",
              "      background-color: #434B5C;\n",
              "      box-shadow: 0px 1px 3px 1px rgba(0, 0, 0, 0.15);\n",
              "      filter: drop-shadow(0px 1px 2px rgba(0, 0, 0, 0.3));\n",
              "      fill: #FFFFFF;\n",
              "    }\n",
              "  </style>\n",
              "\n",
              "      <script>\n",
              "        const buttonEl =\n",
              "          document.querySelector('#df-a9080112-b5d6-4d7e-ba51-ccdcf11e550a button.colab-df-convert');\n",
              "        buttonEl.style.display =\n",
              "          google.colab.kernel.accessAllowed ? 'block' : 'none';\n",
              "\n",
              "        async function convertToInteractive(key) {\n",
              "          const element = document.querySelector('#df-a9080112-b5d6-4d7e-ba51-ccdcf11e550a');\n",
              "          const dataTable =\n",
              "            await google.colab.kernel.invokeFunction('convertToInteractive',\n",
              "                                                     [key], {});\n",
              "          if (!dataTable) return;\n",
              "\n",
              "          const docLinkHtml = 'Like what you see? Visit the ' +\n",
              "            '<a target=\"_blank\" href=https://colab.research.google.com/notebooks/data_table.ipynb>data table notebook</a>'\n",
              "            + ' to learn more about interactive tables.';\n",
              "          element.innerHTML = '';\n",
              "          dataTable['output_type'] = 'display_data';\n",
              "          await google.colab.output.renderOutput(dataTable, element);\n",
              "          const docLink = document.createElement('div');\n",
              "          docLink.innerHTML = docLinkHtml;\n",
              "          element.appendChild(docLink);\n",
              "        }\n",
              "      </script>\n",
              "    </div>\n",
              "  </div>\n",
              "  "
            ]
          },
          "metadata": {},
          "execution_count": 10
        }
      ]
    },
    {
      "cell_type": "code",
      "source": [
        "agr.info()"
      ],
      "metadata": {
        "colab": {
          "base_uri": "https://localhost:8080/"
        },
        "id": "cBNlqVNr8iAP",
        "outputId": "37020db2-04ed-4a33-94d9-22085fa23964"
      },
      "execution_count": null,
      "outputs": [
        {
          "output_type": "stream",
          "name": "stdout",
          "text": [
            "<class 'pandas.core.frame.DataFrame'>\n",
            "Int64Index: 317146 entries, 320146 to 87568\n",
            "Data columns (total 5 columns):\n",
            " #   Column    Non-Null Count   Dtype         \n",
            "---  ------    --------------   -----         \n",
            " 0   시장/마트 번호  317146 non-null  int64         \n",
            " 1   품목 번호     317146 non-null  int64         \n",
            " 2   가격(원)     317146 non-null  int64         \n",
            " 3   년도-월      317146 non-null  datetime64[ns]\n",
            " 4   자치구 코드    317146 non-null  int64         \n",
            "dtypes: datetime64[ns](1), int64(4)\n",
            "memory usage: 14.5 MB\n"
          ]
        }
      ]
    },
    {
      "cell_type": "code",
      "source": [
        "plt.figure(figsize = (13,9))\n",
        "sns.barplot(data = agr, x='품목 번호', y = '가격(원)')\n",
        "plt.show()"
      ],
      "metadata": {
        "colab": {
          "base_uri": "https://localhost:8080/",
          "height": 1000
        },
        "id": "N0mDfs2AU270",
        "outputId": "1f9fb3d0-8063-42b3-cd19-c228d4f2f269"
      },
      "execution_count": null,
      "outputs": [
        {
          "output_type": "stream",
          "name": "stderr",
          "text": [
            "/usr/local/lib/python3.8/dist-packages/matplotlib/backends/backend_agg.py:214: RuntimeWarning: Glyph 54408 missing from current font.\n",
            "  font.set_text(s, 0.0, flags=flags)\n",
            "/usr/local/lib/python3.8/dist-packages/matplotlib/backends/backend_agg.py:214: RuntimeWarning: Glyph 47785 missing from current font.\n",
            "  font.set_text(s, 0.0, flags=flags)\n",
            "/usr/local/lib/python3.8/dist-packages/matplotlib/backends/backend_agg.py:214: RuntimeWarning: Glyph 48264 missing from current font.\n",
            "  font.set_text(s, 0.0, flags=flags)\n",
            "/usr/local/lib/python3.8/dist-packages/matplotlib/backends/backend_agg.py:214: RuntimeWarning: Glyph 54840 missing from current font.\n",
            "  font.set_text(s, 0.0, flags=flags)\n",
            "/usr/local/lib/python3.8/dist-packages/matplotlib/backends/backend_agg.py:214: RuntimeWarning: Glyph 44032 missing from current font.\n",
            "  font.set_text(s, 0.0, flags=flags)\n",
            "/usr/local/lib/python3.8/dist-packages/matplotlib/backends/backend_agg.py:214: RuntimeWarning: Glyph 44201 missing from current font.\n",
            "  font.set_text(s, 0.0, flags=flags)\n",
            "/usr/local/lib/python3.8/dist-packages/matplotlib/backends/backend_agg.py:214: RuntimeWarning: Glyph 50896 missing from current font.\n",
            "  font.set_text(s, 0.0, flags=flags)\n",
            "/usr/local/lib/python3.8/dist-packages/matplotlib/backends/backend_agg.py:183: RuntimeWarning: Glyph 54408 missing from current font.\n",
            "  font.set_text(s, 0, flags=flags)\n",
            "/usr/local/lib/python3.8/dist-packages/matplotlib/backends/backend_agg.py:183: RuntimeWarning: Glyph 47785 missing from current font.\n",
            "  font.set_text(s, 0, flags=flags)\n",
            "/usr/local/lib/python3.8/dist-packages/matplotlib/backends/backend_agg.py:183: RuntimeWarning: Glyph 48264 missing from current font.\n",
            "  font.set_text(s, 0, flags=flags)\n",
            "/usr/local/lib/python3.8/dist-packages/matplotlib/backends/backend_agg.py:183: RuntimeWarning: Glyph 54840 missing from current font.\n",
            "  font.set_text(s, 0, flags=flags)\n",
            "/usr/local/lib/python3.8/dist-packages/matplotlib/backends/backend_agg.py:183: RuntimeWarning: Glyph 44032 missing from current font.\n",
            "  font.set_text(s, 0, flags=flags)\n",
            "/usr/local/lib/python3.8/dist-packages/matplotlib/backends/backend_agg.py:183: RuntimeWarning: Glyph 44201 missing from current font.\n",
            "  font.set_text(s, 0, flags=flags)\n",
            "/usr/local/lib/python3.8/dist-packages/matplotlib/backends/backend_agg.py:183: RuntimeWarning: Glyph 50896 missing from current font.\n",
            "  font.set_text(s, 0, flags=flags)\n"
          ]
        },
        {
          "output_type": "display_data",
          "data": {
            "text/plain": [
              "<Figure size 936x648 with 1 Axes>"
            ],
            "image/png": "[encoded data removed]"
          },
          "metadata": {
            "needs_background": "light"
          }
        }
      ]
    },
    {
      "cell_type": "code",
      "source": [
        "plt.figure(figsize = (20,9))\n",
        "sns.lineplot(data = agr, x='년도-월', y = '가격(원)')"
      ],
      "metadata": {
        "colab": {
          "base_uri": "https://localhost:8080/",
          "height": 921
        },
        "id": "IJX138UecerW",
        "outputId": "576834d9-af8d-4cd9-b646-f1b89b6f3aaf"
      },
      "execution_count": null,
      "outputs": [
        {
          "output_type": "execute_result",
          "data": {
            "text/plain": [
              "<matplotlib.axes._subplots.AxesSubplot at 0x7f461e571310>"
            ]
          },
          "metadata": {},
          "execution_count": 13
        },
        {
          "output_type": "stream",
          "name": "stderr",
          "text": [
            "/usr/local/lib/python3.8/dist-packages/matplotlib/backends/backend_agg.py:214: RuntimeWarning: Glyph 45380 missing from current font.\n",
            "  font.set_text(s, 0.0, flags=flags)\n",
            "/usr/local/lib/python3.8/dist-packages/matplotlib/backends/backend_agg.py:214: RuntimeWarning: Glyph 46020 missing from current font.\n",
            "  font.set_text(s, 0.0, flags=flags)\n",
            "/usr/local/lib/python3.8/dist-packages/matplotlib/backends/backend_agg.py:214: RuntimeWarning: Glyph 50900 missing from current font.\n",
            "  font.set_text(s, 0.0, flags=flags)\n",
            "/usr/local/lib/python3.8/dist-packages/matplotlib/backends/backend_agg.py:183: RuntimeWarning: Glyph 45380 missing from current font.\n",
            "  font.set_text(s, 0, flags=flags)\n",
            "/usr/local/lib/python3.8/dist-packages/matplotlib/backends/backend_agg.py:183: RuntimeWarning: Glyph 46020 missing from current font.\n",
            "  font.set_text(s, 0, flags=flags)\n",
            "/usr/local/lib/python3.8/dist-packages/matplotlib/backends/backend_agg.py:183: RuntimeWarning: Glyph 50900 missing from current font.\n",
            "  font.set_text(s, 0, flags=flags)\n",
            "/usr/local/lib/python3.8/dist-packages/matplotlib/backends/backend_agg.py:214: RuntimeWarning: Glyph 44032 missing from current font.\n",
            "  font.set_text(s, 0.0, flags=flags)\n",
            "/usr/local/lib/python3.8/dist-packages/matplotlib/backends/backend_agg.py:214: RuntimeWarning: Glyph 44201 missing from current font.\n",
            "  font.set_text(s, 0.0, flags=flags)\n",
            "/usr/local/lib/python3.8/dist-packages/matplotlib/backends/backend_agg.py:214: RuntimeWarning: Glyph 50896 missing from current font.\n",
            "  font.set_text(s, 0.0, flags=flags)\n",
            "/usr/local/lib/python3.8/dist-packages/matplotlib/backends/backend_agg.py:183: RuntimeWarning: Glyph 44032 missing from current font.\n",
            "  font.set_text(s, 0, flags=flags)\n",
            "/usr/local/lib/python3.8/dist-packages/matplotlib/backends/backend_agg.py:183: RuntimeWarning: Glyph 44201 missing from current font.\n",
            "  font.set_text(s, 0, flags=flags)\n",
            "/usr/local/lib/python3.8/dist-packages/matplotlib/backends/backend_agg.py:183: RuntimeWarning: Glyph 50896 missing from current font.\n",
            "  font.set_text(s, 0, flags=flags)\n"
          ]
        },
        {
          "output_type": "display_data",
          "data": {
            "text/plain": [
              "<Figure size 1440x648 with 1 Axes>"
            ],
            "image/png": "[encoded data removed]"
          },
          "metadata": {
            "needs_background": "light"
          }
        }
      ]
    },
    {
      "cell_type": "code",
      "source": [
        "agr['년도-월'] = agr['년도-월'].dt.year"
      ],
      "metadata": {
        "id": "7jnCA-yAiPO_"
      },
      "execution_count": null,
      "outputs": []
    },
    {
      "cell_type": "code",
      "source": [
        "plt.figure(figsize = (20,9))\n",
        "sns.lineplot(data = agr, x='년도-월', y = '가격(원)')"
      ],
      "metadata": {
        "id": "hq1W0uLDmTj0",
        "outputId": "a095c14c-c235-4911-eb80-12e2d31ad885",
        "colab": {
          "base_uri": "https://localhost:8080/",
          "height": 921
        }
      },
      "execution_count": null,
      "outputs": [
        {
          "output_type": "execute_result",
          "data": {
            "text/plain": [
              "<matplotlib.axes._subplots.AxesSubplot at 0x7f461dbff640>"
            ]
          },
          "metadata": {},
          "execution_count": 15
        },
        {
          "output_type": "stream",
          "name": "stderr",
          "text": [
            "/usr/local/lib/python3.8/dist-packages/matplotlib/backends/backend_agg.py:214: RuntimeWarning: Glyph 45380 missing from current font.\n",
            "  font.set_text(s, 0.0, flags=flags)\n",
            "/usr/local/lib/python3.8/dist-packages/matplotlib/backends/backend_agg.py:214: RuntimeWarning: Glyph 46020 missing from current font.\n",
            "  font.set_text(s, 0.0, flags=flags)\n",
            "/usr/local/lib/python3.8/dist-packages/matplotlib/backends/backend_agg.py:214: RuntimeWarning: Glyph 50900 missing from current font.\n",
            "  font.set_text(s, 0.0, flags=flags)\n",
            "/usr/local/lib/python3.8/dist-packages/matplotlib/backends/backend_agg.py:183: RuntimeWarning: Glyph 45380 missing from current font.\n",
            "  font.set_text(s, 0, flags=flags)\n",
            "/usr/local/lib/python3.8/dist-packages/matplotlib/backends/backend_agg.py:183: RuntimeWarning: Glyph 46020 missing from current font.\n",
            "  font.set_text(s, 0, flags=flags)\n",
            "/usr/local/lib/python3.8/dist-packages/matplotlib/backends/backend_agg.py:183: RuntimeWarning: Glyph 50900 missing from current font.\n",
            "  font.set_text(s, 0, flags=flags)\n",
            "/usr/local/lib/python3.8/dist-packages/matplotlib/backends/backend_agg.py:214: RuntimeWarning: Glyph 44032 missing from current font.\n",
            "  font.set_text(s, 0.0, flags=flags)\n",
            "/usr/local/lib/python3.8/dist-packages/matplotlib/backends/backend_agg.py:214: RuntimeWarning: Glyph 44201 missing from current font.\n",
            "  font.set_text(s, 0.0, flags=flags)\n",
            "/usr/local/lib/python3.8/dist-packages/matplotlib/backends/backend_agg.py:214: RuntimeWarning: Glyph 50896 missing from current font.\n",
            "  font.set_text(s, 0.0, flags=flags)\n",
            "/usr/local/lib/python3.8/dist-packages/matplotlib/backends/backend_agg.py:183: RuntimeWarning: Glyph 44032 missing from current font.\n",
            "  font.set_text(s, 0, flags=flags)\n",
            "/usr/local/lib/python3.8/dist-packages/matplotlib/backends/backend_agg.py:183: RuntimeWarning: Glyph 44201 missing from current font.\n",
            "  font.set_text(s, 0, flags=flags)\n",
            "/usr/local/lib/python3.8/dist-packages/matplotlib/backends/backend_agg.py:183: RuntimeWarning: Glyph 50896 missing from current font.\n",
            "  font.set_text(s, 0, flags=flags)\n"
          ]
        },
        {
          "output_type": "display_data",
          "data": {
            "text/plain": [
              "<Figure size 1440x648 with 1 Axes>"
            ],
            "image/png": "[encoded data removed]"
          },
          "metadata": {
            "needs_background": "light"
          }
        }
      ]
    },
    {
      "cell_type": "markdown",
      "source": [
        "# 훈련과 시험"
      ],
      "metadata": {
        "id": "uc4VScyoU0Nx"
      }
    },
    {
      "cell_type": "code",
      "source": [
        "from sklearn.model_selection import train_test_split"
      ],
      "metadata": {
        "id": "gCa9hMaRU9K9"
      },
      "execution_count": null,
      "outputs": []
    },
    {
      "cell_type": "code",
      "source": [
        "X = agr.drop('가격(원)', axis = 1)\n",
        "y = agr['가격(원)']"
      ],
      "metadata": {
        "id": "wOl1uiWcWSdY"
      },
      "execution_count": null,
      "outputs": []
    },
    {
      "cell_type": "code",
      "source": [
        "X_train, X_test, y_train, y_test = train_test_split(\n",
        "    X,y,test_size=0.2, random_state=22\n",
        ")"
      ],
      "metadata": {
        "id": "t5yuYVG9Lyc-"
      },
      "execution_count": null,
      "outputs": []
    },
    {
      "cell_type": "markdown",
      "source": [
        "# 모델링 : 결정트리"
      ],
      "metadata": {
        "id": "11nV17J0U3Vv"
      }
    },
    {
      "cell_type": "code",
      "source": [
        "from sklearn.tree import DecisionTreeRegressor"
      ],
      "metadata": {
        "id": "a0TzmsJQJBeD"
      },
      "execution_count": null,
      "outputs": []
    },
    {
      "cell_type": "code",
      "source": [
        "model = DecisionTreeRegressor(random_state=21)"
      ],
      "metadata": {
        "id": "Cf6AFvsNVFRN"
      },
      "execution_count": null,
      "outputs": []
    },
    {
      "cell_type": "code",
      "source": [
        "model.fit(X_train,y_train)"
      ],
      "metadata": {
        "colab": {
          "base_uri": "https://localhost:8080/"
        },
        "id": "o1QbG7OsgiD-",
        "outputId": "418ec812-8438-429a-e41d-40a5c6172731"
      },
      "execution_count": null,
      "outputs": [
        {
          "output_type": "execute_result",
          "data": {
            "text/plain": [
              "DecisionTreeRegressor(random_state=21)"
            ]
          },
          "metadata": {},
          "execution_count": 21
        }
      ]
    },
    {
      "cell_type": "code",
      "source": [
        "pred = model.predict(X_test)\n",
        "pred"
      ],
      "metadata": {
        "colab": {
          "base_uri": "https://localhost:8080/"
        },
        "id": "aSGEKrKzfvnv",
        "outputId": "940e11f4-a6fd-4dad-9f3b-119b83093a31"
      },
      "execution_count": null,
      "outputs": [
        {
          "output_type": "execute_result",
          "data": {
            "text/plain": [
              "array([ 5520.71794872,  3392.5       ,  5353.36585366, ...,\n",
              "       12728.94736842,  3462.85714286,  6365.        ])"
            ]
          },
          "metadata": {},
          "execution_count": 22
        }
      ]
    },
    {
      "cell_type": "code",
      "source": [
        "model.fit(X_train, y_train)"
      ],
      "metadata": {
        "colab": {
          "base_uri": "https://localhost:8080/"
        },
        "id": "qkQhlsljWCPF",
        "outputId": "4031cc0f-01ae-4345-df93-0fde920b3939"
      },
      "execution_count": null,
      "outputs": [
        {
          "output_type": "execute_result",
          "data": {
            "text/plain": [
              "DecisionTreeRegressor(random_state=21)"
            ]
          },
          "metadata": {},
          "execution_count": 23
        }
      ]
    },
    {
      "cell_type": "code",
      "source": [
        "train_pred = model.predict(X_train)\n",
        "\n",
        "# 훈련셋을 예측하여 overfitting 여부를 보기위함\n",
        "\n",
        "test_pred = model.predict(X_test)\n",
        "\n",
        "#1. train은 높은데 test가 그만큼 안나올 때 - 오버피팅\n",
        "#2. train이 현저히 낮을때 - 언더피팅"
      ],
      "metadata": {
        "id": "Mxs2LTQDZKGf"
      },
      "execution_count": null,
      "outputs": []
    },
    {
      "cell_type": "markdown",
      "source": [
        "# 평가 : 결정트리"
      ],
      "metadata": {
        "id": "82UsWTMyNPCo"
      }
    },
    {
      "cell_type": "code",
      "source": [
        "from sklearn.metrics import mean_squared_error,accuracy_score"
      ],
      "metadata": {
        "id": "2TQvyW8-NNx1"
      },
      "execution_count": null,
      "outputs": []
    },
    {
      "cell_type": "code",
      "source": [
        "print(\n",
        "    f\"train_rmse : {mean_squared_error(y_train, train_pred, squared = False)}\",\n",
        "    f\"test_rmse : {mean_squared_error(y_test, test_pred, squared = False)}\"\n",
        ")"
      ],
      "metadata": {
        "id": "gLKA8gu0NNvt",
        "colab": {
          "base_uri": "https://localhost:8080/"
        },
        "outputId": "f062f610-bd31-4fb8-ffde-9f1170083494"
      },
      "execution_count": null,
      "outputs": [
        {
          "output_type": "stream",
          "name": "stdout",
          "text": [
            "train_rmse : 2355.1712437754227 test_rmse : 2856.19577909466\n"
          ]
        }
      ]
    },
    {
      "cell_type": "code",
      "source": [
        "model.score(X_train, y_train)"
      ],
      "metadata": {
        "colab": {
          "base_uri": "https://localhost:8080/"
        },
        "id": "azJrZ8vckaIN",
        "outputId": "8b8cb154-472e-470f-9c5e-dcc8863b0c5f"
      },
      "execution_count": null,
      "outputs": [
        {
          "output_type": "execute_result",
          "data": {
            "text/plain": [
              "0.9042311866440855"
            ]
          },
          "metadata": {},
          "execution_count": 27
        }
      ]
    }
  ]
}